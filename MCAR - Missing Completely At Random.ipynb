{
 "cells": [
  {
   "cell_type": "markdown",
   "id": "f7654b82-e08a-44da-8477-7a2d178d7430",
   "metadata": {},
   "source": [
    "# Goal : Exploration of MCAR - Missing Completely At Random for handlisng missing values.\n",
    "\n",
    "MCAR is one of the missing data mechanisms used to understand the pattern of missingness in Machine Learning"
   ]
  },
  {
   "cell_type": "code",
   "execution_count": 1,
   "id": "33d04dd2-1c01-4bd6-9a4f-7060a80ab508",
   "metadata": {},
   "outputs": [],
   "source": [
    "import numpy as np\n",
    "import pandas as pd"
   ]
  },
  {
   "cell_type": "code",
   "execution_count": 2,
   "id": "7d49d412-7205-4ec5-819b-62bf7109c6e5",
   "metadata": {},
   "outputs": [
    {
     "data": {
      "text/html": [
       "<div>\n",
       "<style scoped>\n",
       "    .dataframe tbody tr th:only-of-type {\n",
       "        vertical-align: middle;\n",
       "    }\n",
       "\n",
       "    .dataframe tbody tr th {\n",
       "        vertical-align: top;\n",
       "    }\n",
       "\n",
       "    .dataframe thead th {\n",
       "        text-align: right;\n",
       "    }\n",
       "</style>\n",
       "<table border=\"1\" class=\"dataframe\">\n",
       "  <thead>\n",
       "    <tr style=\"text-align: right;\">\n",
       "      <th></th>\n",
       "      <th>Category</th>\n",
       "      <th>Price</th>\n",
       "      <th>Rating</th>\n",
       "      <th>Stock</th>\n",
       "      <th>Discount</th>\n",
       "    </tr>\n",
       "  </thead>\n",
       "  <tbody>\n",
       "    <tr>\n",
       "      <th>0</th>\n",
       "      <td>NaN</td>\n",
       "      <td>5548.0</td>\n",
       "      <td>1.870322</td>\n",
       "      <td>NaN</td>\n",
       "      <td>0.0</td>\n",
       "    </tr>\n",
       "    <tr>\n",
       "      <th>1</th>\n",
       "      <td>NaN</td>\n",
       "      <td>3045.0</td>\n",
       "      <td>4.757798</td>\n",
       "      <td>NaN</td>\n",
       "      <td>38.0</td>\n",
       "    </tr>\n",
       "    <tr>\n",
       "      <th>2</th>\n",
       "      <td>NaN</td>\n",
       "      <td>4004.0</td>\n",
       "      <td>NaN</td>\n",
       "      <td>In Stock</td>\n",
       "      <td>0.0</td>\n",
       "    </tr>\n",
       "    <tr>\n",
       "      <th>3</th>\n",
       "      <td>NaN</td>\n",
       "      <td>4808.0</td>\n",
       "      <td>1.492085</td>\n",
       "      <td>NaN</td>\n",
       "      <td>33.0</td>\n",
       "    </tr>\n",
       "    <tr>\n",
       "      <th>4</th>\n",
       "      <td>NaN</td>\n",
       "      <td>1817.0</td>\n",
       "      <td>NaN</td>\n",
       "      <td>Out of Stock</td>\n",
       "      <td>23.0</td>\n",
       "    </tr>\n",
       "    <tr>\n",
       "      <th>...</th>\n",
       "      <td>...</td>\n",
       "      <td>...</td>\n",
       "      <td>...</td>\n",
       "      <td>...</td>\n",
       "      <td>...</td>\n",
       "    </tr>\n",
       "    <tr>\n",
       "      <th>4357</th>\n",
       "      <td>NaN</td>\n",
       "      <td>4436.0</td>\n",
       "      <td>4.728335</td>\n",
       "      <td>NaN</td>\n",
       "      <td>49.0</td>\n",
       "    </tr>\n",
       "    <tr>\n",
       "      <th>4358</th>\n",
       "      <td>B</td>\n",
       "      <td>6236.0</td>\n",
       "      <td>NaN</td>\n",
       "      <td>Out of Stock</td>\n",
       "      <td>4.0</td>\n",
       "    </tr>\n",
       "    <tr>\n",
       "      <th>4359</th>\n",
       "      <td>NaN</td>\n",
       "      <td>3283.0</td>\n",
       "      <td>NaN</td>\n",
       "      <td>Out of Stock</td>\n",
       "      <td>9.0</td>\n",
       "    </tr>\n",
       "    <tr>\n",
       "      <th>4360</th>\n",
       "      <td>D</td>\n",
       "      <td>2999.0</td>\n",
       "      <td>4.425995</td>\n",
       "      <td>NaN</td>\n",
       "      <td>40.0</td>\n",
       "    </tr>\n",
       "    <tr>\n",
       "      <th>4361</th>\n",
       "      <td>NaN</td>\n",
       "      <td>NaN</td>\n",
       "      <td>2.184471</td>\n",
       "      <td>NaN</td>\n",
       "      <td>0.0</td>\n",
       "    </tr>\n",
       "  </tbody>\n",
       "</table>\n",
       "<p>4362 rows × 5 columns</p>\n",
       "</div>"
      ],
      "text/plain": [
       "     Category   Price    Rating         Stock  Discount\n",
       "0         NaN  5548.0  1.870322           NaN       0.0\n",
       "1         NaN  3045.0  4.757798           NaN      38.0\n",
       "2         NaN  4004.0       NaN      In Stock       0.0\n",
       "3         NaN  4808.0  1.492085           NaN      33.0\n",
       "4         NaN  1817.0       NaN  Out of Stock      23.0\n",
       "...       ...     ...       ...           ...       ...\n",
       "4357      NaN  4436.0  4.728335           NaN      49.0\n",
       "4358        B  6236.0       NaN  Out of Stock       4.0\n",
       "4359      NaN  3283.0       NaN  Out of Stock       9.0\n",
       "4360        D  2999.0  4.425995           NaN      40.0\n",
       "4361      NaN     NaN  2.184471           NaN       0.0\n",
       "\n",
       "[4362 rows x 5 columns]"
      ]
     },
     "execution_count": 2,
     "metadata": {},
     "output_type": "execute_result"
    }
   ],
   "source": [
    "df = pd.read_csv('MCAR Dataset.csv')\n",
    "df"
   ]
  },
  {
   "cell_type": "code",
   "execution_count": 3,
   "id": "87674c87-cbcb-49f9-bed7-3df8a656cabf",
   "metadata": {},
   "outputs": [
    {
     "name": "stdout",
     "output_type": "stream",
     "text": [
      "<class 'pandas.core.frame.DataFrame'>\n",
      "RangeIndex: 4362 entries, 0 to 4361\n",
      "Data columns (total 5 columns):\n",
      " #   Column    Non-Null Count  Dtype  \n",
      "---  ------    --------------  -----  \n",
      " 0   Category  1614 non-null   object \n",
      " 1   Price     4188 non-null   float64\n",
      " 2   Rating    2312 non-null   float64\n",
      " 3   Stock     3010 non-null   object \n",
      " 4   Discount  3970 non-null   float64\n",
      "dtypes: float64(3), object(2)\n",
      "memory usage: 170.5+ KB\n"
     ]
    }
   ],
   "source": [
    "# Lets do basic checkup of dataframe\n",
    "df.info()"
   ]
  },
  {
   "cell_type": "markdown",
   "id": "e33ed1df-67ad-4218-a1cc-2cef0d2d2926",
   "metadata": {},
   "source": [
    "## MCAR – Missing Completely At Random\n",
    "- **Hypothesis:** Suppose you want to test if Category is missing at random (not related to any other feature).\n",
    "- **How to check:** Check whether missingness of Category varies across other columns. If it doesn't vary, it's likely MCAR.\n",
    "- **Two ways to check:** **1)** Using group by(Numerical), crosstab(Non-Numerical)  **2)** Using tests like t-test, chi square test, ANOVA test etc. \n",
    "- **Other features** means if we are checking MCAR at category column against remaining columns then these remaining columns becomes other features.\n",
    "- **Two scenarios :** 1) Numerical Features  2) Non Numerical Features\n",
    "    - **1) Numerical Features** - When we have numerical features in remaining features then we can use groupby, t-test, ANOVA test etc.\n",
    "    - **2) Categorical Features** - When we have categorical features in remaining features then we can use crosstab, chisquare test etc.\n",
    "- When we have numerical columns & we use groupby then it use mean of that column for each part - missing & non missing and decide on that basis.\n",
    "- When we have categorical columns & we use crosstab, it counts the occurances of different combinations of categories in both columns & decide on that basis.\n",
    "- When we use different tests using scipy then it uses hypothesis test behind the scenes.\n",
    "- **Which method to use? = Both ways needs to be used because they give double confirmation.**\n",
    "    - Way 1 = groupby for Numeric, crosstab for Non Numeric\n",
    "    - Way 2\n",
    "        - = Tests for Numeric (t-test,ANOVA etc.)\n",
    "        - = Tests for Non Numeric (chi square etc.) "
   ]
  },
  {
   "cell_type": "markdown",
   "id": "eac7993a-7c4f-4aa7-a432-88441426ed17",
   "metadata": {},
   "source": [
    "### Example of Numerical Features with groupby"
   ]
  },
  {
   "cell_type": "code",
   "execution_count": 4,
   "id": "91e111d9-2e1a-4799-ad84-aca0262392bc",
   "metadata": {},
   "outputs": [
    {
     "data": {
      "text/html": [
       "<div>\n",
       "<style scoped>\n",
       "    .dataframe tbody tr th:only-of-type {\n",
       "        vertical-align: middle;\n",
       "    }\n",
       "\n",
       "    .dataframe tbody tr th {\n",
       "        vertical-align: top;\n",
       "    }\n",
       "\n",
       "    .dataframe thead th {\n",
       "        text-align: right;\n",
       "    }\n",
       "</style>\n",
       "<table border=\"1\" class=\"dataframe\">\n",
       "  <thead>\n",
       "    <tr style=\"text-align: right;\">\n",
       "      <th>Category_missing</th>\n",
       "      <th>0</th>\n",
       "      <th>1</th>\n",
       "    </tr>\n",
       "  </thead>\n",
       "  <tbody>\n",
       "    <tr>\n",
       "      <th>Discount</th>\n",
       "      <td>24.765914</td>\n",
       "      <td>24.371463</td>\n",
       "    </tr>\n",
       "    <tr>\n",
       "      <th>Price</th>\n",
       "      <td>5073.628773</td>\n",
       "      <td>4983.440897</td>\n",
       "    </tr>\n",
       "    <tr>\n",
       "      <th>Rating</th>\n",
       "      <td>3.042391</td>\n",
       "      <td>3.035833</td>\n",
       "    </tr>\n",
       "  </tbody>\n",
       "</table>\n",
       "</div>"
      ],
      "text/plain": [
       "Category_missing            0            1\n",
       "Discount            24.765914    24.371463\n",
       "Price             5073.628773  4983.440897\n",
       "Rating               3.042391     3.035833"
      ]
     },
     "execution_count": 4,
     "metadata": {},
     "output_type": "execute_result"
    }
   ],
   "source": [
    "# First create new column of 0 & 1\n",
    "df['Category_missing'] = df['Category'].isnull().astype(int) # category_missing = 1, non_missing = 0\n",
    "\n",
    "# List of numeric columns to check\n",
    "columns_to_check = ['Discount', 'Price', 'Rating']\n",
    "\n",
    "# when we have many columns in dataset, use below code instead of above manual list.\n",
    "# It gives all numeric columns,dont forget to exclude that column on which MCAR is testing\n",
    "# Means suppose we are testing MCAR in Price column, its a numeric and it would be in that, so drop it from the list.\n",
    "\n",
    "# columns_to_check = df.select_dtypes(include='number').columns.tolist() \n",
    "\n",
    "# Create a dictionary to store results\n",
    "mean_comparison = {}\n",
    "\n",
    "for col in columns_to_check:\n",
    "    mean_values = df.groupby('Category_missing')[col].mean()\n",
    "    mean_comparison[col] = mean_values\n",
    "\n",
    "# Create a DataFrame from the dictionary\n",
    "summary_table = pd.DataFrame(mean_comparison).T # Transpose to make columns easier to read\n",
    "summary_table"
   ]
  },
  {
   "cell_type": "markdown",
   "id": "b4084cf9-732d-4747-9362-1b2a15dc508b",
   "metadata": {},
   "source": [
    "**Interpretation: Category & Discount Columns** Numerical Columns\n",
    "- Mean Discount (Category present): ~24.77\n",
    "- Mean Discount (Category missing): ~24.37\n",
    "\n",
    "1. If both groups (0 and 1) have similar Mean Discount(column), then Category column is probably MCAR.\n",
    "2. The difference is very small (~0.39), suggesting no strong relationship between missingness in Category and Discount.\n",
    "3. Same for Mean Rating(difference is very small).\n",
    "4. But difference of Mean Price is very high. So, Overall Category column is not MCAR and needs further evaluaion using MAR or MNAR.\n",
    "5. Even if all numerical columns have same or less difference between mean then we would go to check same for Non-numerical columns. \n",
    "\n",
    "**What we did:**\n",
    "- We compared the average of the Numeric columns between two groups:\n",
    "    - Rows where the Category value is not missing (Category_missing = 0)\n",
    "    - Rows where the Category value is missing (Category_missing = 1)"
   ]
  },
  {
   "cell_type": "markdown",
   "id": "9b026f2c-e5f5-4d2b-ac7f-1feec0470ac6",
   "metadata": {},
   "source": [
    "### Example of Non Numerical Features with crosstab"
   ]
  },
  {
   "cell_type": "code",
   "execution_count": 5,
   "id": "944daa21-9c4e-4761-8017-87da05e25b7c",
   "metadata": {},
   "outputs": [
    {
     "data": {
      "text/html": [
       "<div>\n",
       "<style scoped>\n",
       "    .dataframe tbody tr th:only-of-type {\n",
       "        vertical-align: middle;\n",
       "    }\n",
       "\n",
       "    .dataframe tbody tr th {\n",
       "        vertical-align: top;\n",
       "    }\n",
       "\n",
       "    .dataframe thead th {\n",
       "        text-align: right;\n",
       "    }\n",
       "</style>\n",
       "<table border=\"1\" class=\"dataframe\">\n",
       "  <thead>\n",
       "    <tr style=\"text-align: right;\">\n",
       "      <th>Category_missing</th>\n",
       "      <th>0</th>\n",
       "      <th>1</th>\n",
       "    </tr>\n",
       "    <tr>\n",
       "      <th>Stock</th>\n",
       "      <th></th>\n",
       "      <th></th>\n",
       "    </tr>\n",
       "  </thead>\n",
       "  <tbody>\n",
       "    <tr>\n",
       "      <th>In Stock</th>\n",
       "      <td>595</td>\n",
       "      <td>918</td>\n",
       "    </tr>\n",
       "    <tr>\n",
       "      <th>Out of Stock</th>\n",
       "      <td>530</td>\n",
       "      <td>967</td>\n",
       "    </tr>\n",
       "  </tbody>\n",
       "</table>\n",
       "</div>"
      ],
      "text/plain": [
       "Category_missing    0    1\n",
       "Stock                     \n",
       "In Stock          595  918\n",
       "Out of Stock      530  967"
      ]
     },
     "execution_count": 5,
     "metadata": {},
     "output_type": "execute_result"
    }
   ],
   "source": [
    "pd.crosstab(df['Stock'], df['Category_missing']) # dropna=True is default\n",
    "\n",
    "# This is basic crosstab which gives contingency table(count table)\n",
    "# First it counts total occurances of 'In Stock' & 'Out of Stock' and then segregate them into 0 & 1. "
   ]
  },
  {
   "cell_type": "code",
   "execution_count": 6,
   "id": "db6bd919-9255-4788-8a1b-9b60b33e5f26",
   "metadata": {},
   "outputs": [
    {
     "data": {
      "text/html": [
       "<div>\n",
       "<style scoped>\n",
       "    .dataframe tbody tr th:only-of-type {\n",
       "        vertical-align: middle;\n",
       "    }\n",
       "\n",
       "    .dataframe tbody tr th {\n",
       "        vertical-align: top;\n",
       "    }\n",
       "\n",
       "    .dataframe thead th {\n",
       "        text-align: right;\n",
       "    }\n",
       "</style>\n",
       "<table border=\"1\" class=\"dataframe\">\n",
       "  <thead>\n",
       "    <tr style=\"text-align: right;\">\n",
       "      <th>Category_missing</th>\n",
       "      <th>0</th>\n",
       "      <th>1</th>\n",
       "    </tr>\n",
       "    <tr>\n",
       "      <th>Stock</th>\n",
       "      <th></th>\n",
       "      <th></th>\n",
       "    </tr>\n",
       "  </thead>\n",
       "  <tbody>\n",
       "    <tr>\n",
       "      <th>In Stock</th>\n",
       "      <td>595</td>\n",
       "      <td>918</td>\n",
       "    </tr>\n",
       "    <tr>\n",
       "      <th>Out of Stock</th>\n",
       "      <td>530</td>\n",
       "      <td>967</td>\n",
       "    </tr>\n",
       "    <tr>\n",
       "      <th>NaN</th>\n",
       "      <td>489</td>\n",
       "      <td>863</td>\n",
       "    </tr>\n",
       "  </tbody>\n",
       "</table>\n",
       "</div>"
      ],
      "text/plain": [
       "Category_missing    0    1\n",
       "Stock                     \n",
       "In Stock          595  918\n",
       "Out of Stock      530  967\n",
       "NaN               489  863"
      ]
     },
     "execution_count": 6,
     "metadata": {},
     "output_type": "execute_result"
    }
   ],
   "source": [
    "pd.crosstab(df['Stock'], df['Category_missing'],dropna=False) # dropna=False counts for NaN category also in category column"
   ]
  },
  {
   "cell_type": "code",
   "execution_count": 7,
   "id": "11271651-4ced-4921-b3bc-1ce0531a6f45",
   "metadata": {},
   "outputs": [
    {
     "data": {
      "text/html": [
       "<div>\n",
       "<style scoped>\n",
       "    .dataframe tbody tr th:only-of-type {\n",
       "        vertical-align: middle;\n",
       "    }\n",
       "\n",
       "    .dataframe tbody tr th {\n",
       "        vertical-align: top;\n",
       "    }\n",
       "\n",
       "    .dataframe thead th {\n",
       "        text-align: right;\n",
       "    }\n",
       "</style>\n",
       "<table border=\"1\" class=\"dataframe\">\n",
       "  <thead>\n",
       "    <tr style=\"text-align: right;\">\n",
       "      <th></th>\n",
       "      <th>Category_missing</th>\n",
       "      <th>0</th>\n",
       "      <th>1</th>\n",
       "    </tr>\n",
       "    <tr>\n",
       "      <th></th>\n",
       "      <th>Stock</th>\n",
       "      <th></th>\n",
       "      <th></th>\n",
       "    </tr>\n",
       "  </thead>\n",
       "  <tbody>\n",
       "    <tr>\n",
       "      <th rowspan=\"2\" valign=\"top\">Stock</th>\n",
       "      <th>In Stock</th>\n",
       "      <td>0.528889</td>\n",
       "      <td>0.487003</td>\n",
       "    </tr>\n",
       "    <tr>\n",
       "      <th>Out of Stock</th>\n",
       "      <td>0.471111</td>\n",
       "      <td>0.512997</td>\n",
       "    </tr>\n",
       "  </tbody>\n",
       "</table>\n",
       "</div>"
      ],
      "text/plain": [
       "Category_missing           0         1\n",
       "      Stock                           \n",
       "Stock In Stock      0.528889  0.487003\n",
       "      Out of Stock  0.471111  0.512997"
      ]
     },
     "execution_count": 7,
     "metadata": {},
     "output_type": "execute_result"
    }
   ],
   "source": [
    "# normalize='index' converts them into proportion.\n",
    "# Means 'In Stock' = we had 595(0) & 918(1) so total became 1513\n",
    "# normalize='index' converts this proportion in percentage\n",
    "# Means percentage of 595 out of 1513 and 918 out of 1513 which becomes 39.32 & 60.67 for 'In Stock' respectively\n",
    "# Then it changes each row into proportions, i.e., each row sums to 1, basically divide by 100.\n",
    "\n",
    "# First create new column of 0 & 1\n",
    "df['Category_missing'] = df['Category'].isnull().astype(int) # category_missing = 1, non_missing = 0\n",
    "\n",
    "# List of Non Numeric columns to check\n",
    "columns_to_check = ['Stock']\n",
    "\n",
    "# when we have many columns in dataset, use below code instead of above manual list.\n",
    "# dont forget to drop column on which MCAR is being tested.Here we are testing on category column so it should be excluded from list.\n",
    "#columns_to_check = df.select_dtypes(exclude='number').columns.tolist()\n",
    "\n",
    "# Create a dictionary to store results\n",
    "stock_crosstabs = {}\n",
    "\n",
    "for col in columns_to_check:\n",
    "    cross = pd.crosstab(df['Category_missing'], df[col], normalize='index')\n",
    "    stock_crosstabs[col] = cross\n",
    "\n",
    "# Create a dataframe from dictionary\n",
    "summary_table = pd.concat(stock_crosstabs.values(), axis=1, keys=stock_crosstabs.keys()).T\n",
    "summary_table"
   ]
  },
  {
   "cell_type": "markdown",
   "id": "aa52ed6d-7252-4bb8-960b-523882f8b651",
   "metadata": {},
   "source": [
    "**Interpretation : Non Numerical Columns**\n",
    "\n",
    "- 1 is for missing values = True\n",
    "- It shows small difference between 'In Stock'(0.48) & 'Out of Stock'(0.51)\n",
    "- It is close but not identical, this small difference may be due to randomness.\n",
    "- So we can say it follows MCAR, means we can consider dropping NaNs or simple impuatations like mean, mediean, mode in categorical column.\n",
    "- Although, in few numerical columns MCAR is negative.\n",
    "- That means, overall we need to consisder further evaluaion using MAR or MNAR istead of handling category column at this stage."
   ]
  },
  {
   "cell_type": "markdown",
   "id": "a4d696bb-38d3-429b-801e-86f78f0121f8",
   "metadata": {},
   "source": [
    "### Using different tests\n",
    "\n",
    "- When results of groupby or crosstab are not very clear then we can take help of these tests to decide.\n",
    "- Even if results are good, it is recommended to cross check using tests.\n",
    "- **t-test and Mann–Whitney U test for Numerical columns.**\n",
    "- **t-test** used when that column is normally distributed. **Mann–Whitney U** test used when that column is not normally distributed.\n",
    "    - Means in our case we are using numerical columns Discount,Price,Rating.\n",
    "    - So we will first check two distributions for each above column - 1)for category missing group  2)for category non missing group\n",
    "    - If both groups are normally distributed for that column = **use t-test.**\n",
    "    - If any group is not normal = use **Mann–Whitney U test.**\n",
    "- **Chi Square test for Non Numerical columns**"
   ]
  },
  {
   "cell_type": "code",
   "execution_count": 8,
   "id": "5c779538-8102-4207-80d5-e21e7f4271c2",
   "metadata": {},
   "outputs": [
    {
     "name": "stdout",
     "output_type": "stream",
     "text": [
      "p-value: 0.3187885447795062\n"
     ]
    }
   ],
   "source": [
    "# t-test\n",
    "from scipy.stats import ttest_ind\n",
    "\n",
    "# If the numeric variable is roughly normally distributed\n",
    "group_0 = df[df['Category_missing'] == 0]['Price'].dropna()\n",
    "group_1 = df[df['Category_missing'] == 1]['Price'].dropna()\n",
    "\n",
    "# Above code splits the data into:\n",
    "# group_0: Price values where Category is present\n",
    "# group_1: Price values where Category is missing\n",
    "# dropna() removes any missing prices, so you only compare valid numbers.\n",
    "\n",
    "# Run t-test\n",
    "t_stat, p_val = ttest_ind(group_0, group_1, equal_var=False)\n",
    "\n",
    "# What this line is doing:\n",
    "    # Calculates the difference in means between the two groups.\n",
    "    # Checks: Is this difference big enough that it’s unlikely due to random chance?\n",
    "# In short behind the scenes it computes:\n",
    "    # The mean and standard deviation of each group.\n",
    "    # The standard error (a measure of uncertainty).\n",
    "    # Then it calculates a t-statistic — this tells how far apart the means are in standard error units.\n",
    "    # It then computes a p-value from the t-distribution.\n",
    "\n",
    "# Print the result of p_value\n",
    "print(f\"p-value: {p_val}\")\n",
    "\n",
    "# How to interprete p_value :\n",
    "    # If p-value > 0.05 -> No strong evidence of difference -> Price is likely not related to missingness -> MCAR possible\n",
    "    # If p-value <= 0.05 -> Strong evidence of difference -> Price may influence missingness -> Not MCAR\n",
    "\n",
    "# Conclusion :\n",
    "    # This way we statistically testing whether the average price differs between rows with and without missing values in the Category column \n",
    "    # if it does, that suggests missingness may not be random."
   ]
  },
  {
   "cell_type": "code",
   "execution_count": 9,
   "id": "76476fbd-9d51-4869-aae0-b482dae2b126",
   "metadata": {},
   "outputs": [
    {
     "name": "stdout",
     "output_type": "stream",
     "text": [
      "p-value: 0.322391252368329\n"
     ]
    }
   ],
   "source": [
    "# Mann–Whitney U test\n",
    "# Applicable when data is skewed or If it's not normally distributed (non-parametric)\n",
    "# We are using a non-parametric test(doesn’t assume normal distribution),which is safer for skewed or messy data.\n",
    "\n",
    "from scipy.stats import mannwhitneyu \n",
    "\n",
    "# Group the data (same as t-test)\n",
    "group_0 = df[df['Category_missing'] == 0]['Price'].dropna()\n",
    "group_1 = df[df['Category_missing'] == 1]['Price'].dropna()\n",
    "\n",
    "# Run Mann–Whitney U Test\n",
    "u_stat, p_val = mannwhitneyu(group_0, group_1, alternative='two-sided')\n",
    "\n",
    "# What the test does behind the scenes:\n",
    "    # 1) Combine all values from both groups into one list.\n",
    "    # 2) Rank all values (lowest = 1, highest = N).\n",
    "    # 3) Calculate the sum of ranks for each group.\n",
    "    # 4) Then ask: \"If both groups were from the same distribution, would we expect this difference in ranks?\"\n",
    "    # 5) Computes the U statistic, which measures how many times a value in one group ranks higher than a value in the other.\n",
    "    # 6) Calculates the p-value: What is the probability of getting this U value (or more extreme) if the groups were from the same distribution?\n",
    "\n",
    "# Print the result of p_value\n",
    "print(f\"p-value: {p_val}\")\n",
    "\n",
    "# How to interprete p_values?\n",
    "    # If p > 0.05 -> Distributions are likely similar -> Missingness in Category may be MCAR\n",
    "    # If p <= 0.05 -> Distributions differ -> Missingness is not random\n",
    "\n",
    "# Conclusion\n",
    "# It tests whether the distribution (not just mean) of a numerical column differs between missing and non-missing groups, \n",
    "# using ranking instead of averages - ideal when the data is not normally distributed.\n",
    "\n",
    "# The Mann–Whitney U test checks if the values in one group tend to be higher or lower than in the other - without assuming normality.\n",
    "# If one group consistently has higher or lower Price values, the test flags it."
   ]
  },
  {
   "cell_type": "code",
   "execution_count": 10,
   "id": "132b980f-1542-46f0-b433-48e342ca7c5c",
   "metadata": {},
   "outputs": [
    {
     "name": "stdout",
     "output_type": "stream",
     "text": [
      "p-value: 0.02882130828730913\n"
     ]
    }
   ],
   "source": [
    "# chi square test\n",
    "# Chi-Squared Test of Independence helps in categorical vs categorical comparison.\n",
    "from scipy.stats import chi2_contingency\n",
    "\n",
    "# Contingency table (counts, not normalized)\n",
    "# This creates a 2D table of counts which shows how many times each combination occurred.\n",
    "contingency = pd.crosstab(df['Stock'], df['Category_missing'])\n",
    "\n",
    "# Chi-square test (check behind the scene working below)\n",
    "chi2, p, dof, expected = chi2_contingency(contingency)\n",
    "\n",
    "# Print the result of p_value\n",
    "print(f'p-value: {p}')\n",
    "\n",
    "# How to interprete p_values?\n",
    "# If p > 0.05 -> Not significantly different from expected -> variables are likely independent -> MCAR possible.\n",
    "# If p <= 0.05 -> Strong evidence of association -> Not MCAR.\n",
    "\n",
    "# Conclusion \n",
    "# The Chi-squared test compares actual counts(Observed count) of combinations (like Stock vs Category_missing) to the counts you'd expect by chance.\n",
    "# If they differ too much, it means the variables are likely dependent -> suggesting missingness is not completely random.\n",
    "\n",
    "# It tests whether the pattern of missing values in a categorical column (like Category) is statistically independent from another \n",
    "# categorical variable (like Stock) by comparing observed vs expected frequencies."
   ]
  },
  {
   "attachments": {
    "d0f69abc-b7ec-4a57-abbd-40ced921984f.png": {
     "image/png": "[encoded data removed]"
    }
   },
   "cell_type": "markdown",
   "id": "0545f093-a70e-44a2-8ce5-e81b424b043d",
   "metadata": {},
   "source": [
    "**Behind the scenes of: chi2, p, dof, expected = chi2_contingency(contingency)**\n",
    "\n",
    "![image.png](attachment:d0f69abc-b7ec-4a57-abbd-40ced921984f.png)"
   ]
  },
  {
   "cell_type": "code",
   "execution_count": 11,
   "id": "5c3256d2-2273-4f28-81bc-8b2a89dfd012",
   "metadata": {},
   "outputs": [
    {
     "data": {
      "text/html": [
       "<div>\n",
       "<style scoped>\n",
       "    .dataframe tbody tr th:only-of-type {\n",
       "        vertical-align: middle;\n",
       "    }\n",
       "\n",
       "    .dataframe tbody tr th {\n",
       "        vertical-align: top;\n",
       "    }\n",
       "\n",
       "    .dataframe thead th {\n",
       "        text-align: right;\n",
       "    }\n",
       "</style>\n",
       "<table border=\"1\" class=\"dataframe\">\n",
       "  <thead>\n",
       "    <tr style=\"text-align: right;\">\n",
       "      <th></th>\n",
       "      <th>Column</th>\n",
       "      <th>p-value</th>\n",
       "      <th>p_value Interpretation</th>\n",
       "      <th>Strategy</th>\n",
       "    </tr>\n",
       "  </thead>\n",
       "  <tbody>\n",
       "    <tr>\n",
       "      <th>0</th>\n",
       "      <td>Stock</td>\n",
       "      <td>0.028821</td>\n",
       "      <td>Not MCAR</td>\n",
       "      <td>Refere MAR or MNAR for Imputation</td>\n",
       "    </tr>\n",
       "  </tbody>\n",
       "</table>\n",
       "</div>"
      ],
      "text/plain": [
       "  Column   p-value p_value Interpretation                           Strategy\n",
       "0  Stock  0.028821               Not MCAR  Refere MAR or MNAR for Imputation"
      ]
     },
     "execution_count": 11,
     "metadata": {},
     "output_type": "execute_result"
    }
   ],
   "source": [
    "# Applying chi square test for multiple columns at a time using for loop (Summary Table)\n",
    "categorical_cols = ['Stock']\n",
    "\n",
    "from scipy.stats import chi2_contingency\n",
    "import pandas as pd\n",
    "\n",
    "results = []\n",
    "\n",
    "for col in categorical_cols:\n",
    "    # Create contingency table\n",
    "    table = pd.crosstab(df[col], df['Category_missing'])\n",
    "    \n",
    "    # Perform chi-square test\n",
    "    chi2, p, dof, expected = chi2_contingency(table)\n",
    "    \n",
    "    # Save results\n",
    "    results.append({\n",
    "        'Column': col,\n",
    "        'p-value': p,\n",
    "        'p_value Interpretation': 'Not MCAR' if p < 0.05 else 'Supports MCAR',\n",
    "        'Strategy': 'Consider drop or simple imputation' if 'p_value Interpretation' == 'Not MCAR' else 'Refere MAR or MNAR for Imputation'\n",
    "    })\n",
    "\n",
    "# Create summary DataFrame\n",
    "summary_df = pd.DataFrame(results)\n",
    "summary_df"
   ]
  },
  {
   "cell_type": "code",
   "execution_count": 12,
   "id": "d41f9750-8e59-4aef-b321-8428f7d56d22",
   "metadata": {},
   "outputs": [
    {
     "data": {
      "text/html": [
       "<div>\n",
       "<style scoped>\n",
       "    .dataframe tbody tr th:only-of-type {\n",
       "        vertical-align: middle;\n",
       "    }\n",
       "\n",
       "    .dataframe tbody tr th {\n",
       "        vertical-align: top;\n",
       "    }\n",
       "\n",
       "    .dataframe thead th {\n",
       "        text-align: right;\n",
       "    }\n",
       "</style>\n",
       "<table border=\"1\" class=\"dataframe\">\n",
       "  <thead>\n",
       "    <tr style=\"text-align: right;\">\n",
       "      <th></th>\n",
       "      <th>Column</th>\n",
       "      <th>p-value</th>\n",
       "      <th>p_value Interpretation</th>\n",
       "      <th>Strategy</th>\n",
       "    </tr>\n",
       "  </thead>\n",
       "  <tbody>\n",
       "    <tr>\n",
       "      <th>0</th>\n",
       "      <td>Price</td>\n",
       "      <td>0.318789</td>\n",
       "      <td>Supports MCAR</td>\n",
       "      <td>Refer MAR or MNAR for Imputation</td>\n",
       "    </tr>\n",
       "    <tr>\n",
       "      <th>1</th>\n",
       "      <td>Discount</td>\n",
       "      <td>0.402807</td>\n",
       "      <td>Supports MCAR</td>\n",
       "      <td>Refer MAR or MNAR for Imputation</td>\n",
       "    </tr>\n",
       "    <tr>\n",
       "      <th>2</th>\n",
       "      <td>Rating</td>\n",
       "      <td>0.893762</td>\n",
       "      <td>Supports MCAR</td>\n",
       "      <td>Refer MAR or MNAR for Imputation</td>\n",
       "    </tr>\n",
       "  </tbody>\n",
       "</table>\n",
       "</div>"
      ],
      "text/plain": [
       "     Column   p-value p_value Interpretation                          Strategy\n",
       "0     Price  0.318789          Supports MCAR  Refer MAR or MNAR for Imputation\n",
       "1  Discount  0.402807          Supports MCAR  Refer MAR or MNAR for Imputation\n",
       "2    Rating  0.893762          Supports MCAR  Refer MAR or MNAR for Imputation"
      ]
     },
     "execution_count": 12,
     "metadata": {},
     "output_type": "execute_result"
    }
   ],
   "source": [
    "# Applying t_test for multiple numerical columns at a time using for loop (Summary Table)\n",
    "\n",
    "from scipy.stats import ttest_ind\n",
    "import pandas as pd\n",
    "\n",
    "numeric_cols = ['Price', 'Discount', 'Rating']\n",
    "results = []\n",
    "\n",
    "for col in numeric_cols:\n",
    "    group_0 = df[df['Category_missing'] == 0][col].dropna()\n",
    "    group_1 = df[df['Category_missing'] == 1][col].dropna()\n",
    "\n",
    "    # Use t-test\n",
    "    stat, p_val = ttest_ind(group_0, group_1, equal_var=False)\n",
    "\n",
    "    interpretation = 'Not MCAR' if p_val < 0.05 else 'Supports MCAR'\n",
    "    strategy = 'Consider drop or simple imputation' if interpretation == 'Not MCAR' else 'Refer MAR or MNAR for Imputation'\n",
    "\n",
    "    results.append({\n",
    "        'Column': col,\n",
    "        'p-value': p_val,\n",
    "        'p_value Interpretation': interpretation,\n",
    "        'Strategy': strategy\n",
    "    })\n",
    "\n",
    "summary_df = pd.DataFrame(results)\n",
    "summary_df"
   ]
  },
  {
   "cell_type": "code",
   "execution_count": 13,
   "id": "485a8b72-7e0a-44df-bf9d-eda055462f9c",
   "metadata": {},
   "outputs": [
    {
     "data": {
      "text/html": [
       "<div>\n",
       "<style scoped>\n",
       "    .dataframe tbody tr th:only-of-type {\n",
       "        vertical-align: middle;\n",
       "    }\n",
       "\n",
       "    .dataframe tbody tr th {\n",
       "        vertical-align: top;\n",
       "    }\n",
       "\n",
       "    .dataframe thead th {\n",
       "        text-align: right;\n",
       "    }\n",
       "</style>\n",
       "<table border=\"1\" class=\"dataframe\">\n",
       "  <thead>\n",
       "    <tr style=\"text-align: right;\">\n",
       "      <th></th>\n",
       "      <th>Column</th>\n",
       "      <th>p-value</th>\n",
       "      <th>p_value Interpretation</th>\n",
       "      <th>Strategy</th>\n",
       "    </tr>\n",
       "  </thead>\n",
       "  <tbody>\n",
       "    <tr>\n",
       "      <th>0</th>\n",
       "      <td>Price</td>\n",
       "      <td>0.322391</td>\n",
       "      <td>Supports MCAR</td>\n",
       "      <td>Refer MAR or MNAR for Imputation</td>\n",
       "    </tr>\n",
       "    <tr>\n",
       "      <th>1</th>\n",
       "      <td>Discount</td>\n",
       "      <td>0.398849</td>\n",
       "      <td>Supports MCAR</td>\n",
       "      <td>Refer MAR or MNAR for Imputation</td>\n",
       "    </tr>\n",
       "    <tr>\n",
       "      <th>2</th>\n",
       "      <td>Rating</td>\n",
       "      <td>0.883606</td>\n",
       "      <td>Supports MCAR</td>\n",
       "      <td>Refer MAR or MNAR for Imputation</td>\n",
       "    </tr>\n",
       "  </tbody>\n",
       "</table>\n",
       "</div>"
      ],
      "text/plain": [
       "     Column   p-value p_value Interpretation                          Strategy\n",
       "0     Price  0.322391          Supports MCAR  Refer MAR or MNAR for Imputation\n",
       "1  Discount  0.398849          Supports MCAR  Refer MAR or MNAR for Imputation\n",
       "2    Rating  0.883606          Supports MCAR  Refer MAR or MNAR for Imputation"
      ]
     },
     "execution_count": 13,
     "metadata": {},
     "output_type": "execute_result"
    }
   ],
   "source": [
    "# Applying Mann Whitney U test for multiple numerical columns at a time using for loop (Summary Table)\n",
    "\n",
    "from scipy.stats import mannwhitneyu\n",
    "import pandas as pd\n",
    "\n",
    "numeric_cols = ['Price', 'Discount', 'Rating']\n",
    "results = []\n",
    "\n",
    "for col in numeric_cols:\n",
    "    group_0 = df[df['Category_missing'] == 0][col].dropna()\n",
    "    group_1 = df[df['Category_missing'] == 1][col].dropna()\n",
    "\n",
    "    # Use Mann Whitney U test\n",
    "    u_stat, p_val = mannwhitneyu(group_0, group_1, alternative='two-sided')\n",
    "\n",
    "    interpretation = 'Not MCAR' if p_val < 0.05 else 'Supports MCAR'\n",
    "    strategy = 'Consider drop or simple imputation' if interpretation == 'Not MCAR' else 'Refer MAR or MNAR for Imputation'\n",
    "\n",
    "    results.append({\n",
    "        'Column': col,\n",
    "        'p-value': p_val,\n",
    "        'p_value Interpretation': interpretation,\n",
    "        'Strategy': strategy\n",
    "    })\n",
    "\n",
    "summary_df = pd.DataFrame(results)\n",
    "summary_df"
   ]
  },
  {
   "cell_type": "markdown",
   "id": "3fcb1c96-bb77-4f08-8557-8c848754fd46",
   "metadata": {},
   "source": [
    "### MCAR Final Words\n",
    "**Purpose:**\n",
    "- This helps in checking whether the missingness in the Category column is related to the values in the Discount column.\n",
    "- If the averages are similar, it suggests that the missingness in Category is not influenced by Discount.\n",
    "- In short,The missingness in the Category column does not appear to be directly related to the Discount column.\n",
    "- This supports the idea that the missing data in Category is Missing Completely At Random (MCAR) - at least with respect to Discount.\n",
    "\n",
    "**Handling:**\n",
    "Drop rows or simple imputation (mean, median, mode) is safe.\n",
    "\n",
    "**MCAR Strategy**\n",
    "\n",
    "- If all remaining columns shows MCAR status to a particular column then its fine to drop NaN rows or use imputations like mean, median etc.\n",
    "- But even a single column in dataframe shows a Not MCAR status then we should consider going to next steps like MAR or MNAR\n",
    "- Because when its not MCAR and we consider imputation or dropping values, this means we are ignoring structure in data, natural relationship in data etc.\n",
    "- This causes bias in analysis or modeling because it is faking values that break natuaral relationships.\n",
    "- In short we should only treat a colunn as MCAR if its independent of all other columns. Only then dropping or simple imputation is safe & justified strategy."
   ]
  },
  {
   "cell_type": "code",
   "execution_count": null,
   "id": "f0fbb5b0-4c66-475e-a559-41328c6296cd",
   "metadata": {},
   "outputs": [],
   "source": []
  },
  {
   "cell_type": "code",
   "execution_count": null,
   "id": "48ab52c3-e344-4951-b469-e43cdcf9b421",
   "metadata": {},
   "outputs": [],
   "source": []
  },
  {
   "cell_type": "code",
   "execution_count": null,
   "id": "65e6b848-c581-442c-bf46-d819de278477",
   "metadata": {},
   "outputs": [],
   "source": []
  },
  {
   "cell_type": "code",
   "execution_count": null,
   "id": "46135a6f-fe5c-45be-8746-a291e35b6114",
   "metadata": {},
   "outputs": [],
   "source": []
  },
  {
   "cell_type": "code",
   "execution_count": null,
   "id": "a4057cd5-061c-454b-a270-753767010720",
   "metadata": {},
   "outputs": [],
   "source": []
  },
  {
   "cell_type": "code",
   "execution_count": null,
   "id": "86455c97-c9c4-42b9-800c-6b5f26212592",
   "metadata": {},
   "outputs": [],
   "source": []
  },
  {
   "cell_type": "code",
   "execution_count": null,
   "id": "fca18ea8-19d7-4b20-86f5-f36d123fd2cb",
   "metadata": {},
   "outputs": [],
   "source": []
  },
  {
   "cell_type": "code",
   "execution_count": null,
   "id": "2ffb3d3b-a180-471e-aa2e-aae2844de920",
   "metadata": {},
   "outputs": [],
   "source": []
  },
  {
   "cell_type": "code",
   "execution_count": null,
   "id": "6cabb97a-3b90-40a4-acb7-25a07783e1ce",
   "metadata": {},
   "outputs": [],
   "source": []
  },
  {
   "cell_type": "code",
   "execution_count": null,
   "id": "5e6c9b50-785b-40c0-9fce-60f4f16bc5f9",
   "metadata": {},
   "outputs": [],
   "source": []
  },
  {
   "cell_type": "code",
   "execution_count": null,
   "id": "80b61e7e-1115-426e-9f25-83ef7d1cbcf2",
   "metadata": {},
   "outputs": [],
   "source": []
  },
  {
   "cell_type": "code",
   "execution_count": null,
   "id": "75c724bf-807c-4c62-9711-bd1aec51380f",
   "metadata": {},
   "outputs": [],
   "source": []
  },
  {
   "cell_type": "code",
   "execution_count": null,
   "id": "3e00257c-dc46-4e86-8a9e-1c0ed2878bac",
   "metadata": {},
   "outputs": [],
   "source": []
  },
  {
   "cell_type": "code",
   "execution_count": null,
   "id": "1586ac3c-1026-49b0-a288-e6e0a63261cc",
   "metadata": {},
   "outputs": [],
   "source": []
  },
  {
   "cell_type": "code",
   "execution_count": null,
   "id": "ccb6a282-3421-4298-8a19-b7051350b569",
   "metadata": {},
   "outputs": [],
   "source": []
  },
  {
   "cell_type": "code",
   "execution_count": null,
   "id": "f510b7f4-399c-4ca0-b674-5218ef62b950",
   "metadata": {},
   "outputs": [],
   "source": []
  },
  {
   "cell_type": "code",
   "execution_count": null,
   "id": "d53d2972-2cbc-4ffe-bf9b-daf9f8ebe70c",
   "metadata": {},
   "outputs": [],
   "source": []
  },
  {
   "cell_type": "code",
   "execution_count": null,
   "id": "4fdc4c22-4047-4a3a-b6db-c9a0bc66074c",
   "metadata": {},
   "outputs": [],
   "source": []
  },
  {
   "cell_type": "code",
   "execution_count": null,
   "id": "8b32a401-27e1-4b91-8bf2-dedc98ec65bf",
   "metadata": {},
   "outputs": [],
   "source": []
  },
  {
   "cell_type": "code",
   "execution_count": null,
   "id": "398005d7-05d6-4be3-a936-032b9e99be9d",
   "metadata": {},
   "outputs": [],
   "source": []
  },
  {
   "cell_type": "code",
   "execution_count": null,
   "id": "116d48a0-12a3-4f67-944d-865cd706576f",
   "metadata": {},
   "outputs": [],
   "source": []
  },
  {
   "cell_type": "code",
   "execution_count": null,
   "id": "dfeb9d6b-6e41-4702-8ab7-1f21892feacb",
   "metadata": {},
   "outputs": [],
   "source": []
  },
  {
   "cell_type": "code",
   "execution_count": null,
   "id": "6754fe92-31cf-4b55-b246-7d9643737a59",
   "metadata": {},
   "outputs": [],
   "source": []
  },
  {
   "cell_type": "code",
   "execution_count": null,
   "id": "5a7a0377-f6cd-4ebc-94f2-15878a0695a1",
   "metadata": {},
   "outputs": [],
   "source": []
  },
  {
   "cell_type": "code",
   "execution_count": null,
   "id": "417d62b0-edb9-4b65-8182-702b4cec20d0",
   "metadata": {},
   "outputs": [],
   "source": []
  },
  {
   "cell_type": "code",
   "execution_count": null,
   "id": "fddb205e-680e-4cd5-aea1-dd21ce4af8dc",
   "metadata": {},
   "outputs": [],
   "source": []
  },
  {
   "cell_type": "code",
   "execution_count": null,
   "id": "2ab01a03-e93e-4f49-a4a2-2a3b6d1118bc",
   "metadata": {},
   "outputs": [],
   "source": []
  },
  {
   "cell_type": "code",
   "execution_count": null,
   "id": "198b18e2-931e-41b2-926b-7dc9dd35c7c3",
   "metadata": {},
   "outputs": [],
   "source": []
  },
  {
   "cell_type": "code",
   "execution_count": null,
   "id": "c67edf7b-bdad-4800-8eb0-165f30ea8293",
   "metadata": {},
   "outputs": [],
   "source": []
  },
  {
   "cell_type": "code",
   "execution_count": null,
   "id": "efea0f0f-806d-4184-88a0-aa4090027191",
   "metadata": {},
   "outputs": [],
   "source": []
  },
  {
   "cell_type": "code",
   "execution_count": null,
   "id": "b6db7599-e956-4b51-8439-4668f62cfc07",
   "metadata": {},
   "outputs": [],
   "source": []
  },
  {
   "cell_type": "code",
   "execution_count": null,
   "id": "0359a681-cb2b-4cd6-ac4f-53b11228eede",
   "metadata": {},
   "outputs": [],
   "source": []
  },
  {
   "cell_type": "code",
   "execution_count": null,
   "id": "e6872f93-2e83-4dae-8d39-a23704bce760",
   "metadata": {},
   "outputs": [],
   "source": []
  },
  {
   "cell_type": "code",
   "execution_count": null,
   "id": "9325302c-5f01-4bae-9846-c9848fb349aa",
   "metadata": {},
   "outputs": [],
   "source": []
  },
  {
   "cell_type": "code",
   "execution_count": null,
   "id": "d0bdef4b-9057-4bc1-8978-deb44147a577",
   "metadata": {},
   "outputs": [],
   "source": []
  },
  {
   "cell_type": "code",
   "execution_count": null,
   "id": "9524aa10-3134-4072-9642-e709d47082b5",
   "metadata": {},
   "outputs": [],
   "source": []
  },
  {
   "cell_type": "code",
   "execution_count": null,
   "id": "d8154212-1ce4-4eb7-89b3-0d6f834f84cf",
   "metadata": {},
   "outputs": [],
   "source": []
  },
  {
   "cell_type": "code",
   "execution_count": null,
   "id": "05850622-e088-439d-bee6-0a856e455d20",
   "metadata": {},
   "outputs": [],
   "source": []
  },
  {
   "cell_type": "code",
   "execution_count": null,
   "id": "aeb679a2-7223-4fe3-abef-56ff62c45b8d",
   "metadata": {},
   "outputs": [],
   "source": []
  },
  {
   "cell_type": "code",
   "execution_count": null,
   "id": "c804cce1-f4b5-455c-be7c-363f156cb0a4",
   "metadata": {},
   "outputs": [],
   "source": []
  }
 ],
 "metadata": {
  "kernelspec": {
   "display_name": "Python 3 (ipykernel)",
   "language": "python",
   "name": "python3"
  },
  "language_info": {
   "codemirror_mode": {
    "name": "ipython",
    "version": 3
   },
   "file_extension": ".py",
   "mimetype": "text/x-python",
   "name": "python",
   "nbconvert_exporter": "python",
   "pygments_lexer": "ipython3",
   "version": "3.11.7"
  }
 },
 "nbformat": 4,
 "nbformat_minor": 5
}
